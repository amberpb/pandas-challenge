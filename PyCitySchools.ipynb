#Dependencies
import pandas as pd
import numpy as np
import os

# define file path
schools_file = os.path.join('pandas','pandas-challenge','schools_complete.csv')
students_file = os.path.join('pandas', 'pandas-challenge','students_complete.csv')

# read schools file
schools_df = pd.read_csv('pandas','pandas-challenge','schools_complete.csv')

#read student file
students_df = pd.read_csv('pandas','pandas-challenge','students_complete.csv')

#renames for merge
schools_df.rename(columns = {'name': 'school'}, inplace = True)

merged_df = students_df.merge(schools_df, how = 'left', on = 'school')

#create array of unique school names
unique_school_names = schools_df['school'].unique()

#gives the length of unique school names to give us how many schools
school_count = len(unique_school_names)

#district student count
dist_student_count = schools_df['size'].sum()

#student count from student file (to verify with district student count)
total_student_rec = students_df['name'].count()

#total budget
total_budget = schools_df['budget'].sum()

#calculations for number and % passing reading
num_passing_reading = students_df.loc[students_df['reading_score'] >= 70]['reading_score'].count()
perc_pass_reading = num_passing_reading/total_student_rec

#calculations for number and % passing math
num_passing_math = students_df.loc[students_df['math_score'] >= 70]['math_score'].count()
perc_pass_math = num_passing_math/total_student_rec

#average math score calculation
avg_math_score = students_df['math_score'].mean()

#average reading score calculation
avg_reading_score = students_df['reading_score'].mean()

#Overall Passing Rate Calculations
overall_pass = students_df[(students_df['math_score'] >= 70) & (students_df['reading_score'] >= 70)]['name'].count()/total_student_rec

# district dataframe from dictionary
district_summary = pd.DataFrame({
    
    "Total Schools": [school_count],
    "Total Students": [dist_student_count],
    "Total Budget": [total_budget],
    "Average Reading Score": [avg_reading_score],
    "Average Math Score": [avg_math_score],
    "% Passing Reading":[perc_pass_reading],
    "% Passing Math": [perc_pass_math],
    "Overall Passing Rate": [overall_pass]
  
  
